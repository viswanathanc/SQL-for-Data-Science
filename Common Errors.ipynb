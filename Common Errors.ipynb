{
 "cells": [
  {
   "cell_type": "markdown",
   "metadata": {},
   "source": [
    "# Common Errors in SQL"
   ]
  },
  {
   "cell_type": "markdown",
   "metadata": {},
   "source": [
    "  In this Notebook we will visit some common errors made in sql. Relational Database Management System used here is sqlite. First few steps involves creating tables to set up the environment and creating neccesary tables.__Though these parts are essential, our focus will lie on the later parts of the notebook.__"
   ]
  },
  {
   "cell_type": "markdown",
   "metadata": {},
   "source": [
    "## Setting up the environment"
   ]
  },
  {
   "cell_type": "markdown",
   "metadata": {},
   "source": [
    "  First we install ipython-sql. This requires pandas,sqlalchemy to be installed. Attribute '--user' is required if you have installed python in your local user account. "
   ]
  },
  {
   "cell_type": "code",
   "execution_count": 1,
   "metadata": {},
   "outputs": [
    {
     "name": "stdout",
     "output_type": "stream",
     "text": [
      "Requirement already satisfied: ipython-sql in /home/viswanathan/.local/lib/python3.6/site-packages (0.3.9)\n",
      "Requirement already satisfied: sqlparse in /home/viswanathan/.local/lib/python3.6/site-packages (from ipython-sql) (0.3.0)\n",
      "Requirement already satisfied: ipython-genutils>=0.1.0 in /home/viswanathan/.local/lib/python3.6/site-packages (from ipython-sql) (0.2.0)\n",
      "Requirement already satisfied: sqlalchemy>=0.6.7 in /home/viswanathan/.local/lib/python3.6/site-packages (from ipython-sql) (1.3.8)\n",
      "Requirement already satisfied: prettytable in /home/viswanathan/.local/lib/python3.6/site-packages (from ipython-sql) (0.7.2)\n",
      "Requirement already satisfied: six in /home/viswanathan/.local/lib/python3.6/site-packages (from ipython-sql) (1.12.0)\n",
      "Requirement already satisfied: ipython>=1.0 in /home/viswanathan/.local/lib/python3.6/site-packages (from ipython-sql) (7.6.1)\n",
      "Requirement already satisfied: prompt-toolkit<2.1.0,>=2.0.0 in /home/viswanathan/.local/lib/python3.6/site-packages (from ipython>=1.0->ipython-sql) (2.0.9)\n",
      "Requirement already satisfied: decorator in /home/viswanathan/.local/lib/python3.6/site-packages (from ipython>=1.0->ipython-sql) (4.4.0)\n",
      "Requirement already satisfied: traitlets>=4.2 in /home/viswanathan/.local/lib/python3.6/site-packages (from ipython>=1.0->ipython-sql) (4.3.2)\n",
      "Requirement already satisfied: backcall in /home/viswanathan/.local/lib/python3.6/site-packages (from ipython>=1.0->ipython-sql) (0.1.0)\n",
      "Requirement already satisfied: pickleshare in /home/viswanathan/.local/lib/python3.6/site-packages (from ipython>=1.0->ipython-sql) (0.7.5)\n",
      "Requirement already satisfied: jedi>=0.10 in /home/viswanathan/.local/lib/python3.6/site-packages (from ipython>=1.0->ipython-sql) (0.14.0)\n",
      "Requirement already satisfied: pexpect; sys_platform != \"win32\" in /home/viswanathan/.local/lib/python3.6/site-packages (from ipython>=1.0->ipython-sql) (4.7.0)\n",
      "Requirement already satisfied: setuptools>=18.5 in /home/viswanathan/.local/lib/python3.6/site-packages (from ipython>=1.0->ipython-sql) (40.8.0)\n",
      "Requirement already satisfied: pygments in /home/viswanathan/.local/lib/python3.6/site-packages (from ipython>=1.0->ipython-sql) (2.4.2)\n",
      "Requirement already satisfied: wcwidth in /home/viswanathan/.local/lib/python3.6/site-packages (from prompt-toolkit<2.1.0,>=2.0.0->ipython>=1.0->ipython-sql) (0.1.7)\n",
      "Requirement already satisfied: parso>=0.3.0 in /home/viswanathan/.local/lib/python3.6/site-packages (from jedi>=0.10->ipython>=1.0->ipython-sql) (0.5.0)\n",
      "Requirement already satisfied: ptyprocess>=0.5 in /home/viswanathan/.local/lib/python3.6/site-packages (from pexpect; sys_platform != \"win32\"->ipython>=1.0->ipython-sql) (0.6.0)\n"
     ]
    }
   ],
   "source": [
    "!pip install ipython-sql --user "
   ]
  },
  {
   "cell_type": "code",
   "execution_count": 2,
   "metadata": {},
   "outputs": [],
   "source": [
    "#loading the installed sql\n",
    "%load_ext sql"
   ]
  },
  {
   "cell_type": "code",
   "execution_count": 3,
   "metadata": {},
   "outputs": [
    {
     "data": {
      "text/plain": [
       "'Connected: @None'"
      ]
     },
     "execution_count": 3,
     "metadata": {},
     "output_type": "execute_result"
    }
   ],
   "source": [
    "%sql sqlite://\n",
    "    #if you get 'Connected: @None',then connection would be established"
   ]
  },
  {
   "cell_type": "markdown",
   "metadata": {},
   "source": [
    "## Creating Tables\n",
    " In this session we will create tables required. Sole purpose of including this session in the notebook is to have an idea how a table would be created in sqlite(similar to postgresql). Incase you know how to create a table or you have come to see the later part of the notebook, please execute the cells and move to the next session."
   ]
  },
  {
   "cell_type": "code",
   "execution_count": 4,
   "metadata": {},
   "outputs": [
    {
     "name": "stdout",
     "output_type": "stream",
     "text": [
      " * sqlite://\n",
      "Done.\n"
     ]
    },
    {
     "data": {
      "text/plain": [
       "[]"
      ]
     },
     "execution_count": 4,
     "metadata": {},
     "output_type": "execute_result"
    }
   ],
   "source": [
    "%%sql \n",
    "CREATE TABLE Physics(\n",
    "Name varchar(255),\n",
    "City varchar(255),\n",
    "Mark int);"
   ]
  },
  {
   "cell_type": "code",
   "execution_count": 5,
   "metadata": {
    "scrolled": true
   },
   "outputs": [
    {
     "name": "stdout",
     "output_type": "stream",
     "text": [
      " * sqlite://\n",
      "1 rows affected.\n",
      "1 rows affected.\n",
      "1 rows affected.\n",
      "1 rows affected.\n",
      "1 rows affected.\n",
      "1 rows affected.\n",
      "1 rows affected.\n",
      "1 rows affected.\n",
      "1 rows affected.\n",
      "1 rows affected.\n",
      "1 rows affected.\n",
      "1 rows affected.\n",
      "1 rows affected.\n",
      "1 rows affected.\n",
      "1 rows affected.\n",
      "1 rows affected.\n"
     ]
    },
    {
     "data": {
      "text/plain": [
       "[]"
      ]
     },
     "execution_count": 5,
     "metadata": {},
     "output_type": "execute_result"
    }
   ],
   "source": [
    "%%sql\n",
    "INSERT INTO Physics VALUES('Arun','Trichy',60);\n",
    "INSERT INTO Physics VALUES('Arun','Coimbatore',95);\n",
    "INSERT INTO Physics VALUES('Bala','Madurai',80);\n",
    "INSERT INTO Physics VALUES('Chandru','Trichy',70);\n",
    "INSERT INTO Physics VALUES('Dharma','Thanjavur',92);\n",
    "INSERT INTO Physics VALUES('Dharma','Madurai',68);\n",
    "INSERT INTO Physics VALUES('Elango','Chennai',77);\n",
    "INSERT INTO Physics VALUES('Gokul','Tirunelveli',80);\n",
    "INSERT INTO Physics VALUES('Gokul','Tirunelveli',56);\n",
    "INSERT INTO Physics VALUES('Rahul','Trichy',65);\n",
    "INSERT INTO Physics VALUES('Ram','Coimbatore',58);\n",
    "INSERT INTO Physics VALUES('Raja','Salem',96);\n",
    "INSERT INTO Physics VALUES('Sashi','Madurai',90);\n",
    "INSERT INTO Physics VALUES('Siva','Thanjavur',69);\n",
    "INSERT INTO Physics VALUES('Sivaram','Salem',90);\n",
    "INSERT INTO Physics VALUES('Viswa','Trichy',89);"
   ]
  },
  {
   "cell_type": "code",
   "execution_count": 6,
   "metadata": {},
   "outputs": [
    {
     "name": "stdout",
     "output_type": "stream",
     "text": [
      " * sqlite://\n",
      "Done.\n"
     ]
    },
    {
     "data": {
      "text/plain": [
       "[]"
      ]
     },
     "execution_count": 6,
     "metadata": {},
     "output_type": "execute_result"
    }
   ],
   "source": [
    "%%sql \n",
    "CREATE TABLE Chemistry(\n",
    "Name varchar(255),\n",
    "City varchar(255),\n",
    "Mark int);"
   ]
  },
  {
   "cell_type": "code",
   "execution_count": 7,
   "metadata": {},
   "outputs": [
    {
     "name": "stdout",
     "output_type": "stream",
     "text": [
      " * sqlite://\n",
      "1 rows affected.\n",
      "1 rows affected.\n",
      "1 rows affected.\n",
      "1 rows affected.\n",
      "1 rows affected.\n",
      "1 rows affected.\n",
      "1 rows affected.\n",
      "1 rows affected.\n",
      "1 rows affected.\n",
      "1 rows affected.\n",
      "1 rows affected.\n",
      "1 rows affected.\n",
      "1 rows affected.\n",
      "1 rows affected.\n",
      "1 rows affected.\n",
      "1 rows affected.\n",
      "1 rows affected.\n"
     ]
    },
    {
     "data": {
      "text/plain": [
       "[]"
      ]
     },
     "execution_count": 7,
     "metadata": {},
     "output_type": "execute_result"
    }
   ],
   "source": [
    "%%sql\n",
    "INSERT INTO Chemistry VALUES('Arun','Trichy',90);\n",
    "INSERT INTO Chemistry VALUES('Arun','Coimbatore',85);\n",
    "INSERT INTO Chemistry VALUES('Bala','Madurai',90);\n",
    "INSERT INTO Chemistry VALUES('Chandru','Trichy',85);\n",
    "INSERT INTO Chemistry VALUES('Dharma','Thanjavur',82);\n",
    "INSERT INTO Chemistry VALUES('Dharma','Madurai',60);\n",
    "INSERT INTO Chemistry VALUES('Elango','Chennai',73);\n",
    "INSERT INTO Chemistry VALUES('Gokul','Tirunelveli',60);\n",
    "INSERT INTO Chemistry VALUES('Gokul','Tirunelveli',66);\n",
    "INSERT INTO Chemistry VALUES('Harish','Salem',79);\n",
    "INSERT INTO Chemistry VALUES('Rahul','Trichy',75);\n",
    "INSERT INTO Chemistry VALUES('Ram','Coimbatore',78);\n",
    "INSERT INTO Chemistry VALUES('Raja','Salem',86);\n",
    "INSERT INTO Chemistry VALUES('Sashi','Madurai',80);\n",
    "INSERT INTO Chemistry VALUES('Siva','Thanjavur',79);\n",
    "INSERT INTO Chemistry VALUES('Sivaram','Salem',89);\n",
    "INSERT INTO Chemistry VALUES('Viswa','Trichy',99);"
   ]
  },
  {
   "cell_type": "code",
   "execution_count": 8,
   "metadata": {},
   "outputs": [
    {
     "name": "stdout",
     "output_type": "stream",
     "text": [
      " * sqlite://\n",
      "Done.\n"
     ]
    },
    {
     "data": {
      "text/plain": [
       "[]"
      ]
     },
     "execution_count": 8,
     "metadata": {},
     "output_type": "execute_result"
    }
   ],
   "source": [
    "%%sql \n",
    "CREATE TABLE Mathematics(\n",
    "Name varchar(255),\n",
    "City varchar(255),\n",
    "Mark int);"
   ]
  },
  {
   "cell_type": "code",
   "execution_count": 9,
   "metadata": {
    "scrolled": true
   },
   "outputs": [
    {
     "name": "stdout",
     "output_type": "stream",
     "text": [
      " * sqlite://\n",
      "1 rows affected.\n",
      "1 rows affected.\n",
      "1 rows affected.\n",
      "1 rows affected.\n",
      "1 rows affected.\n",
      "1 rows affected.\n",
      "1 rows affected.\n",
      "1 rows affected.\n",
      "1 rows affected.\n",
      "1 rows affected.\n",
      "1 rows affected.\n",
      "1 rows affected.\n",
      "1 rows affected.\n",
      "1 rows affected.\n",
      "1 rows affected.\n",
      "1 rows affected.\n"
     ]
    },
    {
     "data": {
      "text/plain": [
       "[]"
      ]
     },
     "execution_count": 9,
     "metadata": {},
     "output_type": "execute_result"
    }
   ],
   "source": [
    "%%sql\n",
    "INSERT INTO Mathematics VALUES('Arun','Trichy',80);\n",
    "INSERT INTO Mathematics VALUES('Arun','Coimbatore',90);\n",
    "INSERT INTO Mathematics VALUES('Bala','Madurai',80);\n",
    "INSERT INTO Mathematics VALUES('Bhuvanesh','Vellore',60);\n",
    "INSERT INTO Mathematics VALUES('Chandru','Trichy',60);\n",
    "INSERT INTO Mathematics VALUES('Dharma','Thanjavur',82);\n",
    "INSERT INTO Mathematics VALUES('Dharma','Madurai',64);\n",
    "INSERT INTO Mathematics VALUES('Elango','Chennai',70);\n",
    "INSERT INTO Mathematics VALUES('Gokul','Tirunelveli',90);\n",
    "INSERT INTO Mathematics VALUES('Gokul','Tirunelveli',76);\n",
    "INSERT INTO Mathematics VALUES('Rahul','Trichy',55);\n",
    "INSERT INTO Mathematics VALUES('Ram','Coimbatore',78);\n",
    "INSERT INTO Mathematics VALUES('Raja','Salem',86);\n",
    "INSERT INTO Mathematics VALUES('Sashi','Madurai',80);\n",
    "INSERT INTO Mathematics VALUES('Siva','Thanjavur',79);\n",
    "INSERT INTO Mathematics VALUES('Sivaram','Salem',80);"
   ]
  },
  {
   "cell_type": "markdown",
   "metadata": {},
   "source": [
    "References:\n",
    "To know more on the SQL-Jupternotebook interface read the following article:\n",
    "https://www.datacamp.com/community/tutorials/sql-interface-within-jupyterlab"
   ]
  },
  {
   "cell_type": "markdown",
   "metadata": {},
   "source": [
    "## Some common Errors"
   ]
  },
  {
   "cell_type": "markdown",
   "metadata": {},
   "source": [
    "   There may be lot of possible combinations of errors committed by both beginners and experts in SQL. Here are the discussion on some of these errors.\n",
    "   \n",
    "   \n",
    "   1) Importance of primary key.\n",
    "   \n",
    "   2) Full Outer Join in Sqlite\n",
    "   \n",
    "   3) Aggregating Non-Aggreagating function\n",
    "   \n",
    "   4) When to use join and when not to use join\n",
    "   \n",
    "   5) IN vs JOIN\n",
    "   \n",
    "   6) Dealing with NULL"
   ]
  },
  {
   "cell_type": "markdown",
   "metadata": {},
   "source": [
    "## 1) Importance of primary key "
   ]
  },
  {
   "cell_type": "code",
   "execution_count": 10,
   "metadata": {},
   "outputs": [
    {
     "name": "stdout",
     "output_type": "stream",
     "text": [
      " * sqlite://\n",
      "Done.\n"
     ]
    },
    {
     "data": {
      "text/html": [
       "<table>\n",
       "    <tr>\n",
       "        <th>Name</th>\n",
       "        <th>City</th>\n",
       "        <th>Mark</th>\n",
       "    </tr>\n",
       "    <tr>\n",
       "        <td>Arun</td>\n",
       "        <td>Trichy</td>\n",
       "        <td>60</td>\n",
       "    </tr>\n",
       "    <tr>\n",
       "        <td>Arun</td>\n",
       "        <td>Coimbatore</td>\n",
       "        <td>95</td>\n",
       "    </tr>\n",
       "    <tr>\n",
       "        <td>Bala</td>\n",
       "        <td>Madurai</td>\n",
       "        <td>80</td>\n",
       "    </tr>\n",
       "    <tr>\n",
       "        <td>Chandru</td>\n",
       "        <td>Trichy</td>\n",
       "        <td>70</td>\n",
       "    </tr>\n",
       "    <tr>\n",
       "        <td>Dharma</td>\n",
       "        <td>Thanjavur</td>\n",
       "        <td>92</td>\n",
       "    </tr>\n",
       "    <tr>\n",
       "        <td>Dharma</td>\n",
       "        <td>Madurai</td>\n",
       "        <td>68</td>\n",
       "    </tr>\n",
       "    <tr>\n",
       "        <td>Elango</td>\n",
       "        <td>Chennai</td>\n",
       "        <td>77</td>\n",
       "    </tr>\n",
       "    <tr>\n",
       "        <td>Gokul</td>\n",
       "        <td>Tirunelveli</td>\n",
       "        <td>80</td>\n",
       "    </tr>\n",
       "    <tr>\n",
       "        <td>Gokul</td>\n",
       "        <td>Tirunelveli</td>\n",
       "        <td>56</td>\n",
       "    </tr>\n",
       "    <tr>\n",
       "        <td>Rahul</td>\n",
       "        <td>Trichy</td>\n",
       "        <td>65</td>\n",
       "    </tr>\n",
       "    <tr>\n",
       "        <td>Ram</td>\n",
       "        <td>Coimbatore</td>\n",
       "        <td>58</td>\n",
       "    </tr>\n",
       "    <tr>\n",
       "        <td>Raja</td>\n",
       "        <td>Salem</td>\n",
       "        <td>96</td>\n",
       "    </tr>\n",
       "    <tr>\n",
       "        <td>Sashi</td>\n",
       "        <td>Madurai</td>\n",
       "        <td>90</td>\n",
       "    </tr>\n",
       "    <tr>\n",
       "        <td>Siva</td>\n",
       "        <td>Thanjavur</td>\n",
       "        <td>69</td>\n",
       "    </tr>\n",
       "    <tr>\n",
       "        <td>Sivaram</td>\n",
       "        <td>Salem</td>\n",
       "        <td>90</td>\n",
       "    </tr>\n",
       "    <tr>\n",
       "        <td>Viswa</td>\n",
       "        <td>Trichy</td>\n",
       "        <td>89</td>\n",
       "    </tr>\n",
       "</table>"
      ],
      "text/plain": [
       "[('Arun', 'Trichy', 60),\n",
       " ('Arun', 'Coimbatore', 95),\n",
       " ('Bala', 'Madurai', 80),\n",
       " ('Chandru', 'Trichy', 70),\n",
       " ('Dharma', 'Thanjavur', 92),\n",
       " ('Dharma', 'Madurai', 68),\n",
       " ('Elango', 'Chennai', 77),\n",
       " ('Gokul', 'Tirunelveli', 80),\n",
       " ('Gokul', 'Tirunelveli', 56),\n",
       " ('Rahul', 'Trichy', 65),\n",
       " ('Ram', 'Coimbatore', 58),\n",
       " ('Raja', 'Salem', 96),\n",
       " ('Sashi', 'Madurai', 90),\n",
       " ('Siva', 'Thanjavur', 69),\n",
       " ('Sivaram', 'Salem', 90),\n",
       " ('Viswa', 'Trichy', 89)]"
      ]
     },
     "execution_count": 10,
     "metadata": {},
     "output_type": "execute_result"
    }
   ],
   "source": [
    "\n",
    "%%sql\n",
    "SELECT * \n",
    "FROM Physics"
   ]
  },
  {
   "cell_type": "markdown",
   "metadata": {},
   "source": [
    "   In this Table there are two students with the same name 'Arun', So we cannot identify a student with his name alone uniquely. We can choose combination of 'Name' and 'City' in this case. Two students with name Arun can thus be differentiated. "
   ]
  },
  {
   "cell_type": "code",
   "execution_count": 11,
   "metadata": {},
   "outputs": [
    {
     "name": "stdout",
     "output_type": "stream",
     "text": [
      " * sqlite://\n",
      "Done.\n"
     ]
    },
    {
     "data": {
      "text/html": [
       "<table>\n",
       "    <tr>\n",
       "        <th>Name</th>\n",
       "        <th>City</th>\n",
       "        <th>Mark</th>\n",
       "    </tr>\n",
       "    <tr>\n",
       "        <td>Arun</td>\n",
       "        <td>Trichy</td>\n",
       "        <td>60</td>\n",
       "    </tr>\n",
       "    <tr>\n",
       "        <td>Arun</td>\n",
       "        <td>Coimbatore</td>\n",
       "        <td>95</td>\n",
       "    </tr>\n",
       "</table>"
      ],
      "text/plain": [
       "[('Arun', 'Trichy', 60), ('Arun', 'Coimbatore', 95)]"
      ]
     },
     "execution_count": 11,
     "metadata": {},
     "output_type": "execute_result"
    }
   ],
   "source": [
    "%%sql\n",
    "SELECT * \n",
    "FROM Physics\n",
    "WHERE Name='Arun'"
   ]
  },
  {
   "cell_type": "code",
   "execution_count": 12,
   "metadata": {},
   "outputs": [
    {
     "name": "stdout",
     "output_type": "stream",
     "text": [
      " * sqlite://\n",
      "Done.\n"
     ]
    },
    {
     "data": {
      "text/html": [
       "<table>\n",
       "    <tr>\n",
       "        <th>Name</th>\n",
       "        <th>City</th>\n",
       "        <th>Mark</th>\n",
       "    </tr>\n",
       "    <tr>\n",
       "        <td>Arun</td>\n",
       "        <td>Trichy</td>\n",
       "        <td>60</td>\n",
       "    </tr>\n",
       "</table>"
      ],
      "text/plain": [
       "[('Arun', 'Trichy', 60)]"
      ]
     },
     "execution_count": 12,
     "metadata": {},
     "output_type": "execute_result"
    }
   ],
   "source": [
    "%%sql\n",
    "SELECT * \n",
    "FROM Physics\n",
    "WHERE Name='Arun' and City='Trichy'"
   ]
  },
  {
   "cell_type": "markdown",
   "metadata": {},
   "source": [
    "But still! There are two 'Gokul' from the city 'Tirunelveli'. In this case how can you identify which Gokul it is? "
   ]
  },
  {
   "cell_type": "code",
   "execution_count": 13,
   "metadata": {},
   "outputs": [
    {
     "name": "stdout",
     "output_type": "stream",
     "text": [
      " * sqlite://\n",
      "Done.\n"
     ]
    },
    {
     "data": {
      "text/html": [
       "<table>\n",
       "    <tr>\n",
       "        <th>Name</th>\n",
       "        <th>City</th>\n",
       "        <th>Mark</th>\n",
       "    </tr>\n",
       "    <tr>\n",
       "        <td>Gokul</td>\n",
       "        <td>Tirunelveli</td>\n",
       "        <td>80</td>\n",
       "    </tr>\n",
       "    <tr>\n",
       "        <td>Gokul</td>\n",
       "        <td>Tirunelveli</td>\n",
       "        <td>56</td>\n",
       "    </tr>\n",
       "</table>"
      ],
      "text/plain": [
       "[('Gokul', 'Tirunelveli', 80), ('Gokul', 'Tirunelveli', 56)]"
      ]
     },
     "execution_count": 13,
     "metadata": {},
     "output_type": "execute_result"
    }
   ],
   "source": [
    "%%sql\n",
    "SELECT * \n",
    "FROM Physics\n",
    "WHERE Name='Gokul' and City='Tirunelveli'"
   ]
  },
  {
   "cell_type": "markdown",
   "metadata": {},
   "source": [
    "Can we have combination of Name,City and Mark? We have two problems in this case:\n",
    "\n",
    "1) If we know the mark of Gokul, whats the point of querying? \n",
    "\n",
    "2) What if two students named Gokul from Tirunelveli had same mark in Physics? How do we know whether it is a duplicate records or there are two students of similar records? \n",
    "\n",
    "[Though there are less probability of such cases, but still in a database containing millions of records. There are a lot of possibilities]"
   ]
  },
  {
   "cell_type": "markdown",
   "metadata": {},
   "source": [
    "Also if we want to join the marks students got in Physics Chemistry and Mathematics, on which basics can we join?\n",
    "\n",
    "This is where unique identification of each record, is important in relational database management system."
   ]
  },
  {
   "cell_type": "markdown",
   "metadata": {},
   "source": [
    "### Updated Table"
   ]
  },
  {
   "cell_type": "code",
   "execution_count": 14,
   "metadata": {
    "scrolled": true
   },
   "outputs": [],
   "source": [
    "from sqlalchemy import create_engine\n",
    "engine=create_engine(\"sqlite:///Marks.db\",echo=True)"
   ]
  },
  {
   "cell_type": "code",
   "execution_count": 15,
   "metadata": {},
   "outputs": [
    {
     "name": "stdout",
     "output_type": "stream",
     "text": [
      "2019-10-11 13:00:12,887 INFO sqlalchemy.engine.base.Engine SELECT CAST('test plain returns' AS VARCHAR(60)) AS anon_1\n",
      "2019-10-11 13:00:12,889 INFO sqlalchemy.engine.base.Engine ()\n",
      "2019-10-11 13:00:12,892 INFO sqlalchemy.engine.base.Engine SELECT CAST('test unicode returns' AS VARCHAR(60)) AS anon_1\n",
      "2019-10-11 13:00:12,896 INFO sqlalchemy.engine.base.Engine ()\n",
      "2019-10-11 13:00:12,899 INFO sqlalchemy.engine.base.Engine SELECT * FROM Physics\n",
      "2019-10-11 13:00:12,902 INFO sqlalchemy.engine.base.Engine ()\n",
      "(2, 'Arun', 'Trichy', 60)\n",
      "(1, 'Arun', 'Coimbatore', 95)\n",
      "(3, 'Bala', 'Madurai', 80)\n",
      "(5, 'Chandru', 'Trichy', 70)\n",
      "(7, 'Dharma', 'Thanjavur', 92)\n",
      "(6, 'Dharma', 'Madurai', 68)\n",
      "(8, 'Elango', 'Chennai', 77)\n",
      "(9, 'Gokul', 'Tirunelveli', 80)\n",
      "(10, 'Gokul', 'Tirunelveli', 56)\n",
      "(12, 'Rahul', 'Trichy', 65)\n",
      "(13, 'Ram', 'Coimbatore', 58)\n",
      "(14, 'Raja', 'Salem', 96)\n",
      "(15, 'Sashi', 'Madurai', 90)\n",
      "(16, 'Siva', 'Thanjavur', 69)\n",
      "(17, 'Sivaram', 'Salem', 90)\n",
      "(18, 'Viswa', 'Trichy', 89)\n"
     ]
    }
   ],
   "source": [
    "conn=engine.connect()\n",
    "P=conn.execute(\"SELECT * FROM Physics\")\n",
    "for p in P.fetchall():\n",
    "    print(p)"
   ]
  },
  {
   "cell_type": "markdown",
   "metadata": {},
   "source": [
    "  Here we see updated table with primary key with the name of 'Student_Id'. The Database 'Marks.db' was build already with three tables Physics,Chemistry and Mathematics each containing Student_Id as primary key. \n",
    "  The database and SQL Comment for creating the database are attached in the repository as 'Marks.db' and 'Marks.sql'"
   ]
  },
  {
   "cell_type": "code",
   "execution_count": 16,
   "metadata": {},
   "outputs": [
    {
     "name": "stdout",
     "output_type": "stream",
     "text": [
      "2019-10-11 13:00:12,964 INFO sqlalchemy.engine.base.Engine SELECT * FROM Physics WHERE Student_Id = '9'\n",
      "2019-10-11 13:00:12,969 INFO sqlalchemy.engine.base.Engine ()\n",
      "[(9, 'Gokul', 'Tirunelveli', 80)]\n"
     ]
    }
   ],
   "source": [
    "Result=conn.execute(\"SELECT * \\\n",
    "                    FROM Physics\\\n",
    "                    WHERE Student_Id = '9'\")\n",
    "print(Result.fetchall())\n",
    "conn.close()"
   ]
  },
  {
   "cell_type": "markdown",
   "metadata": {},
   "source": [
    "We have chosen the correct Gokul since we know his Student_Id. Similarly if we know a student's student id,\n",
    "we can easily query and find his details.\n",
    "\n",
    "This unique number also helps in joining the table with other tables."
   ]
  },
  {
   "cell_type": "markdown",
   "metadata": {},
   "source": [
    "For More details on primary key refer:\n",
    "https://www.sqlitetutorial.net/sqlite-primary-key/"
   ]
  },
  {
   "cell_type": "markdown",
   "metadata": {},
   "source": [
    "# 2) Full Outer join in sqlite"
   ]
  },
  {
   "cell_type": "markdown",
   "metadata": {},
   "source": [
    "FULL OUTER JOIN combine the records of two tables based on 'on' clause and also returns all the other records in both the tables."
   ]
  },
  {
   "cell_type": "markdown",
   "metadata": {},
   "source": [
    "SQLITE do not have an option for full outer join. This is a major problem a beginner would face in SQL.\n",
    "We try here to join Physics and Mathematics table here by an outer full join.  "
   ]
  },
  {
   "cell_type": "code",
   "execution_count": 26,
   "metadata": {},
   "outputs": [
    {
     "name": "stdout",
     "output_type": "stream",
     "text": [
      "2019-10-11 13:54:19,131 INFO sqlalchemy.engine.base.Engine SELECT *                     FROM Physics as P FULL OUTER JOIN                     Mathematics as M                     ON P.Student_Id=M.Student_ID\n",
      "2019-10-11 13:54:19,135 INFO sqlalchemy.engine.base.Engine ()\n",
      "2019-10-11 13:54:19,138 INFO sqlalchemy.engine.base.Engine ROLLBACK\n"
     ]
    },
    {
     "ename": "OperationalError",
     "evalue": "(sqlite3.OperationalError) RIGHT and FULL OUTER JOINs are not currently supported\n[SQL: SELECT *                     FROM Physics as P FULL OUTER JOIN                     Mathematics as M                     ON P.Student_Id=M.Student_ID]\n(Background on this error at: http://sqlalche.me/e/e3q8)",
     "output_type": "error",
     "traceback": [
      "\u001b[0;31m---------------------------------------------------------------------------\u001b[0m",
      "\u001b[0;31mOperationalError\u001b[0m                          Traceback (most recent call last)",
      "\u001b[0;32m~/.local/lib/python3.6/site-packages/sqlalchemy/engine/base.py\u001b[0m in \u001b[0;36m_execute_context\u001b[0;34m(self, dialect, constructor, statement, parameters, *args)\u001b[0m\n\u001b[1;32m   1248\u001b[0m                     self.dialect.do_execute(\n\u001b[0;32m-> 1249\u001b[0;31m                         \u001b[0mcursor\u001b[0m\u001b[0;34m,\u001b[0m \u001b[0mstatement\u001b[0m\u001b[0;34m,\u001b[0m \u001b[0mparameters\u001b[0m\u001b[0;34m,\u001b[0m \u001b[0mcontext\u001b[0m\u001b[0;34m\u001b[0m\u001b[0;34m\u001b[0m\u001b[0m\n\u001b[0m\u001b[1;32m   1250\u001b[0m                     )\n",
      "\u001b[0;32m~/.local/lib/python3.6/site-packages/sqlalchemy/engine/default.py\u001b[0m in \u001b[0;36mdo_execute\u001b[0;34m(self, cursor, statement, parameters, context)\u001b[0m\n\u001b[1;32m    551\u001b[0m     \u001b[0;32mdef\u001b[0m \u001b[0mdo_execute\u001b[0m\u001b[0;34m(\u001b[0m\u001b[0mself\u001b[0m\u001b[0;34m,\u001b[0m \u001b[0mcursor\u001b[0m\u001b[0;34m,\u001b[0m \u001b[0mstatement\u001b[0m\u001b[0;34m,\u001b[0m \u001b[0mparameters\u001b[0m\u001b[0;34m,\u001b[0m \u001b[0mcontext\u001b[0m\u001b[0;34m=\u001b[0m\u001b[0;32mNone\u001b[0m\u001b[0;34m)\u001b[0m\u001b[0;34m:\u001b[0m\u001b[0;34m\u001b[0m\u001b[0;34m\u001b[0m\u001b[0m\n\u001b[0;32m--> 552\u001b[0;31m         \u001b[0mcursor\u001b[0m\u001b[0;34m.\u001b[0m\u001b[0mexecute\u001b[0m\u001b[0;34m(\u001b[0m\u001b[0mstatement\u001b[0m\u001b[0;34m,\u001b[0m \u001b[0mparameters\u001b[0m\u001b[0;34m)\u001b[0m\u001b[0;34m\u001b[0m\u001b[0;34m\u001b[0m\u001b[0m\n\u001b[0m\u001b[1;32m    553\u001b[0m \u001b[0;34m\u001b[0m\u001b[0m\n",
      "\u001b[0;31mOperationalError\u001b[0m: RIGHT and FULL OUTER JOINs are not currently supported",
      "\nThe above exception was the direct cause of the following exception:\n",
      "\u001b[0;31mOperationalError\u001b[0m                          Traceback (most recent call last)",
      "\u001b[0;32m<ipython-input-26-0da29af97449>\u001b[0m in \u001b[0;36m<module>\u001b[0;34m\u001b[0m\n\u001b[1;32m      3\u001b[0m                     \u001b[0mFROM\u001b[0m \u001b[0mPhysics\u001b[0m \u001b[0;32mas\u001b[0m \u001b[0mP\u001b[0m \u001b[0mFULL\u001b[0m \u001b[0mOUTER\u001b[0m \u001b[0mJOIN\u001b[0m\u001b[0;31m \u001b[0m\u001b[0;31m\\\u001b[0m\u001b[0;34m\u001b[0m\u001b[0;34m\u001b[0m\u001b[0m\n\u001b[1;32m      4\u001b[0m                     \u001b[0mMathematics\u001b[0m \u001b[0;32mas\u001b[0m \u001b[0mM\u001b[0m\u001b[0;31m \u001b[0m\u001b[0;31m\\\u001b[0m\u001b[0;34m\u001b[0m\u001b[0;34m\u001b[0m\u001b[0m\n\u001b[0;32m----> 5\u001b[0;31m                     ON P.Student_Id=M.Student_ID\")\n\u001b[0m\u001b[1;32m      6\u001b[0m \u001b[0;32mfor\u001b[0m \u001b[0mr\u001b[0m \u001b[0;32min\u001b[0m \u001b[0mResult\u001b[0m\u001b[0;34m.\u001b[0m\u001b[0mfetchall\u001b[0m\u001b[0;34m(\u001b[0m\u001b[0;34m)\u001b[0m\u001b[0;34m:\u001b[0m\u001b[0;34m\u001b[0m\u001b[0;34m\u001b[0m\u001b[0m\n\u001b[1;32m      7\u001b[0m     \u001b[0mprint\u001b[0m\u001b[0;34m(\u001b[0m\u001b[0mr\u001b[0m\u001b[0;34m)\u001b[0m\u001b[0;34m\u001b[0m\u001b[0;34m\u001b[0m\u001b[0m\n",
      "\u001b[0;32m~/.local/lib/python3.6/site-packages/sqlalchemy/engine/base.py\u001b[0m in \u001b[0;36mexecute\u001b[0;34m(self, object_, *multiparams, **params)\u001b[0m\n\u001b[1;32m    980\u001b[0m         \"\"\"\n\u001b[1;32m    981\u001b[0m         \u001b[0;32mif\u001b[0m \u001b[0misinstance\u001b[0m\u001b[0;34m(\u001b[0m\u001b[0mobject_\u001b[0m\u001b[0;34m,\u001b[0m \u001b[0mutil\u001b[0m\u001b[0;34m.\u001b[0m\u001b[0mstring_types\u001b[0m\u001b[0;34m[\u001b[0m\u001b[0;36m0\u001b[0m\u001b[0;34m]\u001b[0m\u001b[0;34m)\u001b[0m\u001b[0;34m:\u001b[0m\u001b[0;34m\u001b[0m\u001b[0;34m\u001b[0m\u001b[0m\n\u001b[0;32m--> 982\u001b[0;31m             \u001b[0;32mreturn\u001b[0m \u001b[0mself\u001b[0m\u001b[0;34m.\u001b[0m\u001b[0m_execute_text\u001b[0m\u001b[0;34m(\u001b[0m\u001b[0mobject_\u001b[0m\u001b[0;34m,\u001b[0m \u001b[0mmultiparams\u001b[0m\u001b[0;34m,\u001b[0m \u001b[0mparams\u001b[0m\u001b[0;34m)\u001b[0m\u001b[0;34m\u001b[0m\u001b[0;34m\u001b[0m\u001b[0m\n\u001b[0m\u001b[1;32m    983\u001b[0m         \u001b[0;32mtry\u001b[0m\u001b[0;34m:\u001b[0m\u001b[0;34m\u001b[0m\u001b[0;34m\u001b[0m\u001b[0m\n\u001b[1;32m    984\u001b[0m             \u001b[0mmeth\u001b[0m \u001b[0;34m=\u001b[0m \u001b[0mobject_\u001b[0m\u001b[0;34m.\u001b[0m\u001b[0m_execute_on_connection\u001b[0m\u001b[0;34m\u001b[0m\u001b[0;34m\u001b[0m\u001b[0m\n",
      "\u001b[0;32m~/.local/lib/python3.6/site-packages/sqlalchemy/engine/base.py\u001b[0m in \u001b[0;36m_execute_text\u001b[0;34m(self, statement, multiparams, params)\u001b[0m\n\u001b[1;32m   1153\u001b[0m             \u001b[0mparameters\u001b[0m\u001b[0;34m,\u001b[0m\u001b[0;34m\u001b[0m\u001b[0;34m\u001b[0m\u001b[0m\n\u001b[1;32m   1154\u001b[0m             \u001b[0mstatement\u001b[0m\u001b[0;34m,\u001b[0m\u001b[0;34m\u001b[0m\u001b[0;34m\u001b[0m\u001b[0m\n\u001b[0;32m-> 1155\u001b[0;31m             \u001b[0mparameters\u001b[0m\u001b[0;34m,\u001b[0m\u001b[0;34m\u001b[0m\u001b[0;34m\u001b[0m\u001b[0m\n\u001b[0m\u001b[1;32m   1156\u001b[0m         )\n\u001b[1;32m   1157\u001b[0m         \u001b[0;32mif\u001b[0m \u001b[0mself\u001b[0m\u001b[0;34m.\u001b[0m\u001b[0m_has_events\u001b[0m \u001b[0;32mor\u001b[0m \u001b[0mself\u001b[0m\u001b[0;34m.\u001b[0m\u001b[0mengine\u001b[0m\u001b[0;34m.\u001b[0m\u001b[0m_has_events\u001b[0m\u001b[0;34m:\u001b[0m\u001b[0;34m\u001b[0m\u001b[0;34m\u001b[0m\u001b[0m\n",
      "\u001b[0;32m~/.local/lib/python3.6/site-packages/sqlalchemy/engine/base.py\u001b[0m in \u001b[0;36m_execute_context\u001b[0;34m(self, dialect, constructor, statement, parameters, *args)\u001b[0m\n\u001b[1;32m   1251\u001b[0m         \u001b[0;32mexcept\u001b[0m \u001b[0mBaseException\u001b[0m \u001b[0;32mas\u001b[0m \u001b[0me\u001b[0m\u001b[0;34m:\u001b[0m\u001b[0;34m\u001b[0m\u001b[0;34m\u001b[0m\u001b[0m\n\u001b[1;32m   1252\u001b[0m             self._handle_dbapi_exception(\n\u001b[0;32m-> 1253\u001b[0;31m                 \u001b[0me\u001b[0m\u001b[0;34m,\u001b[0m \u001b[0mstatement\u001b[0m\u001b[0;34m,\u001b[0m \u001b[0mparameters\u001b[0m\u001b[0;34m,\u001b[0m \u001b[0mcursor\u001b[0m\u001b[0;34m,\u001b[0m \u001b[0mcontext\u001b[0m\u001b[0;34m\u001b[0m\u001b[0;34m\u001b[0m\u001b[0m\n\u001b[0m\u001b[1;32m   1254\u001b[0m             )\n\u001b[1;32m   1255\u001b[0m \u001b[0;34m\u001b[0m\u001b[0m\n",
      "\u001b[0;32m~/.local/lib/python3.6/site-packages/sqlalchemy/engine/base.py\u001b[0m in \u001b[0;36m_handle_dbapi_exception\u001b[0;34m(self, e, statement, parameters, cursor, context)\u001b[0m\n\u001b[1;32m   1471\u001b[0m                 \u001b[0mutil\u001b[0m\u001b[0;34m.\u001b[0m\u001b[0mraise_from_cause\u001b[0m\u001b[0;34m(\u001b[0m\u001b[0mnewraise\u001b[0m\u001b[0;34m,\u001b[0m \u001b[0mexc_info\u001b[0m\u001b[0;34m)\u001b[0m\u001b[0;34m\u001b[0m\u001b[0;34m\u001b[0m\u001b[0m\n\u001b[1;32m   1472\u001b[0m             \u001b[0;32melif\u001b[0m \u001b[0mshould_wrap\u001b[0m\u001b[0;34m:\u001b[0m\u001b[0;34m\u001b[0m\u001b[0;34m\u001b[0m\u001b[0m\n\u001b[0;32m-> 1473\u001b[0;31m                 \u001b[0mutil\u001b[0m\u001b[0;34m.\u001b[0m\u001b[0mraise_from_cause\u001b[0m\u001b[0;34m(\u001b[0m\u001b[0msqlalchemy_exception\u001b[0m\u001b[0;34m,\u001b[0m \u001b[0mexc_info\u001b[0m\u001b[0;34m)\u001b[0m\u001b[0;34m\u001b[0m\u001b[0;34m\u001b[0m\u001b[0m\n\u001b[0m\u001b[1;32m   1474\u001b[0m             \u001b[0;32melse\u001b[0m\u001b[0;34m:\u001b[0m\u001b[0;34m\u001b[0m\u001b[0;34m\u001b[0m\u001b[0m\n\u001b[1;32m   1475\u001b[0m                 \u001b[0mutil\u001b[0m\u001b[0;34m.\u001b[0m\u001b[0mreraise\u001b[0m\u001b[0;34m(\u001b[0m\u001b[0;34m*\u001b[0m\u001b[0mexc_info\u001b[0m\u001b[0;34m)\u001b[0m\u001b[0;34m\u001b[0m\u001b[0;34m\u001b[0m\u001b[0m\n",
      "\u001b[0;32m~/.local/lib/python3.6/site-packages/sqlalchemy/util/compat.py\u001b[0m in \u001b[0;36mraise_from_cause\u001b[0;34m(exception, exc_info)\u001b[0m\n\u001b[1;32m    396\u001b[0m     \u001b[0mexc_type\u001b[0m\u001b[0;34m,\u001b[0m \u001b[0mexc_value\u001b[0m\u001b[0;34m,\u001b[0m \u001b[0mexc_tb\u001b[0m \u001b[0;34m=\u001b[0m \u001b[0mexc_info\u001b[0m\u001b[0;34m\u001b[0m\u001b[0;34m\u001b[0m\u001b[0m\n\u001b[1;32m    397\u001b[0m     \u001b[0mcause\u001b[0m \u001b[0;34m=\u001b[0m \u001b[0mexc_value\u001b[0m \u001b[0;32mif\u001b[0m \u001b[0mexc_value\u001b[0m \u001b[0;32mis\u001b[0m \u001b[0;32mnot\u001b[0m \u001b[0mexception\u001b[0m \u001b[0;32melse\u001b[0m \u001b[0;32mNone\u001b[0m\u001b[0;34m\u001b[0m\u001b[0;34m\u001b[0m\u001b[0m\n\u001b[0;32m--> 398\u001b[0;31m     \u001b[0mreraise\u001b[0m\u001b[0;34m(\u001b[0m\u001b[0mtype\u001b[0m\u001b[0;34m(\u001b[0m\u001b[0mexception\u001b[0m\u001b[0;34m)\u001b[0m\u001b[0;34m,\u001b[0m \u001b[0mexception\u001b[0m\u001b[0;34m,\u001b[0m \u001b[0mtb\u001b[0m\u001b[0;34m=\u001b[0m\u001b[0mexc_tb\u001b[0m\u001b[0;34m,\u001b[0m \u001b[0mcause\u001b[0m\u001b[0;34m=\u001b[0m\u001b[0mcause\u001b[0m\u001b[0;34m)\u001b[0m\u001b[0;34m\u001b[0m\u001b[0;34m\u001b[0m\u001b[0m\n\u001b[0m\u001b[1;32m    399\u001b[0m \u001b[0;34m\u001b[0m\u001b[0m\n\u001b[1;32m    400\u001b[0m \u001b[0;34m\u001b[0m\u001b[0m\n",
      "\u001b[0;32m~/.local/lib/python3.6/site-packages/sqlalchemy/util/compat.py\u001b[0m in \u001b[0;36mreraise\u001b[0;34m(tp, value, tb, cause)\u001b[0m\n\u001b[1;32m    150\u001b[0m             \u001b[0mvalue\u001b[0m\u001b[0;34m.\u001b[0m\u001b[0m__cause__\u001b[0m \u001b[0;34m=\u001b[0m \u001b[0mcause\u001b[0m\u001b[0;34m\u001b[0m\u001b[0;34m\u001b[0m\u001b[0m\n\u001b[1;32m    151\u001b[0m         \u001b[0;32mif\u001b[0m \u001b[0mvalue\u001b[0m\u001b[0;34m.\u001b[0m\u001b[0m__traceback__\u001b[0m \u001b[0;32mis\u001b[0m \u001b[0;32mnot\u001b[0m \u001b[0mtb\u001b[0m\u001b[0;34m:\u001b[0m\u001b[0;34m\u001b[0m\u001b[0;34m\u001b[0m\u001b[0m\n\u001b[0;32m--> 152\u001b[0;31m             \u001b[0;32mraise\u001b[0m \u001b[0mvalue\u001b[0m\u001b[0;34m.\u001b[0m\u001b[0mwith_traceback\u001b[0m\u001b[0;34m(\u001b[0m\u001b[0mtb\u001b[0m\u001b[0;34m)\u001b[0m\u001b[0;34m\u001b[0m\u001b[0;34m\u001b[0m\u001b[0m\n\u001b[0m\u001b[1;32m    153\u001b[0m         \u001b[0;32mraise\u001b[0m \u001b[0mvalue\u001b[0m\u001b[0;34m\u001b[0m\u001b[0;34m\u001b[0m\u001b[0m\n\u001b[1;32m    154\u001b[0m \u001b[0;34m\u001b[0m\u001b[0m\n",
      "\u001b[0;32m~/.local/lib/python3.6/site-packages/sqlalchemy/engine/base.py\u001b[0m in \u001b[0;36m_execute_context\u001b[0;34m(self, dialect, constructor, statement, parameters, *args)\u001b[0m\n\u001b[1;32m   1247\u001b[0m                 \u001b[0;32mif\u001b[0m \u001b[0;32mnot\u001b[0m \u001b[0mevt_handled\u001b[0m\u001b[0;34m:\u001b[0m\u001b[0;34m\u001b[0m\u001b[0;34m\u001b[0m\u001b[0m\n\u001b[1;32m   1248\u001b[0m                     self.dialect.do_execute(\n\u001b[0;32m-> 1249\u001b[0;31m                         \u001b[0mcursor\u001b[0m\u001b[0;34m,\u001b[0m \u001b[0mstatement\u001b[0m\u001b[0;34m,\u001b[0m \u001b[0mparameters\u001b[0m\u001b[0;34m,\u001b[0m \u001b[0mcontext\u001b[0m\u001b[0;34m\u001b[0m\u001b[0;34m\u001b[0m\u001b[0m\n\u001b[0m\u001b[1;32m   1250\u001b[0m                     )\n\u001b[1;32m   1251\u001b[0m         \u001b[0;32mexcept\u001b[0m \u001b[0mBaseException\u001b[0m \u001b[0;32mas\u001b[0m \u001b[0me\u001b[0m\u001b[0;34m:\u001b[0m\u001b[0;34m\u001b[0m\u001b[0;34m\u001b[0m\u001b[0m\n",
      "\u001b[0;32m~/.local/lib/python3.6/site-packages/sqlalchemy/engine/default.py\u001b[0m in \u001b[0;36mdo_execute\u001b[0;34m(self, cursor, statement, parameters, context)\u001b[0m\n\u001b[1;32m    550\u001b[0m \u001b[0;34m\u001b[0m\u001b[0m\n\u001b[1;32m    551\u001b[0m     \u001b[0;32mdef\u001b[0m \u001b[0mdo_execute\u001b[0m\u001b[0;34m(\u001b[0m\u001b[0mself\u001b[0m\u001b[0;34m,\u001b[0m \u001b[0mcursor\u001b[0m\u001b[0;34m,\u001b[0m \u001b[0mstatement\u001b[0m\u001b[0;34m,\u001b[0m \u001b[0mparameters\u001b[0m\u001b[0;34m,\u001b[0m \u001b[0mcontext\u001b[0m\u001b[0;34m=\u001b[0m\u001b[0;32mNone\u001b[0m\u001b[0;34m)\u001b[0m\u001b[0;34m:\u001b[0m\u001b[0;34m\u001b[0m\u001b[0;34m\u001b[0m\u001b[0m\n\u001b[0;32m--> 552\u001b[0;31m         \u001b[0mcursor\u001b[0m\u001b[0;34m.\u001b[0m\u001b[0mexecute\u001b[0m\u001b[0;34m(\u001b[0m\u001b[0mstatement\u001b[0m\u001b[0;34m,\u001b[0m \u001b[0mparameters\u001b[0m\u001b[0;34m)\u001b[0m\u001b[0;34m\u001b[0m\u001b[0;34m\u001b[0m\u001b[0m\n\u001b[0m\u001b[1;32m    553\u001b[0m \u001b[0;34m\u001b[0m\u001b[0m\n\u001b[1;32m    554\u001b[0m     \u001b[0;32mdef\u001b[0m \u001b[0mdo_execute_no_params\u001b[0m\u001b[0;34m(\u001b[0m\u001b[0mself\u001b[0m\u001b[0;34m,\u001b[0m \u001b[0mcursor\u001b[0m\u001b[0;34m,\u001b[0m \u001b[0mstatement\u001b[0m\u001b[0;34m,\u001b[0m \u001b[0mcontext\u001b[0m\u001b[0;34m=\u001b[0m\u001b[0;32mNone\u001b[0m\u001b[0;34m)\u001b[0m\u001b[0;34m:\u001b[0m\u001b[0;34m\u001b[0m\u001b[0;34m\u001b[0m\u001b[0m\n",
      "\u001b[0;31mOperationalError\u001b[0m: (sqlite3.OperationalError) RIGHT and FULL OUTER JOINs are not currently supported\n[SQL: SELECT *                     FROM Physics as P FULL OUTER JOIN                     Mathematics as M                     ON P.Student_Id=M.Student_ID]\n(Background on this error at: http://sqlalche.me/e/e3q8)"
     ]
    }
   ],
   "source": [
    "conn=engine.connect()\n",
    "Result=conn.execute(\"SELECT * \\\n",
    "                    FROM Physics as P FULL OUTER JOIN \\\n",
    "                    Mathematics as M \\\n",
    "                    ON P.Student_Id=M.Student_ID\")\n",
    "for r in Result.fetchall():\n",
    "    print(r)\n",
    "conn.close()"
   ]
  },
  {
   "cell_type": "markdown",
   "metadata": {},
   "source": [
    "Now we get an error \"(sqlite3.OperationalError) RIGHT and FULL OUTER JOINs are not currently supported\".\n",
    "Sqlite donot support RIGHT and FULL OUTER JOINs.\n",
    "Solution is we can use a left join to combine Physics and Chemistry and another left join to combine Chemistry and Physics and union both of them. "
   ]
  },
  {
   "cell_type": "code",
   "execution_count": 28,
   "metadata": {},
   "outputs": [
    {
     "name": "stdout",
     "output_type": "stream",
     "text": [
      "2019-10-11 14:11:36,687 INFO sqlalchemy.engine.base.Engine SELECT *                     FROM Physics as P LEFT JOIN Mathematics as M ON P.Student_Id=M.Student_ID UNION                     SELECT *                     FROM Mathematics as M LEFT JOIN Physics as P ON P.Student_Id=M.Student_ID \n",
      "2019-10-11 14:11:36,690 INFO sqlalchemy.engine.base.Engine ()\n",
      "(1, 'Arun', 'Coimbatore', 90, 1, 'Arun', 'Coimbatore', 95)\n",
      "(1, 'Arun', 'Coimbatore', 95, 1, 'Arun', 'Coimbatore', 90)\n",
      "(2, 'Arun', 'Trichy', 60, 2, 'Arun', 'Trichy', 80)\n",
      "(2, 'Arun', 'Trichy', 80, 2, 'Arun', 'Trichy', 60)\n",
      "(3, 'Bala', 'Madurai', 80, 3, 'Bala', 'Madurai', 80)\n",
      "(4, 'Bhuvanesh', 'Vellore', 60, None, None, None, None)\n",
      "(5, 'Chandru', 'Trichy', 60, 5, 'Chandru', 'Trichy', 70)\n",
      "(5, 'Chandru', 'Trichy', 70, 5, 'Chandru', 'Trichy', 60)\n",
      "(6, 'Dharma', 'Madurai', 64, 6, 'Dharma', 'Madurai', 68)\n",
      "(6, 'Dharma', 'Madurai', 68, 6, 'Dharma', 'Madurai', 64)\n",
      "(7, 'Dharma', 'Thanjavur', 82, 7, 'Dharma', 'Thanjavur', 92)\n",
      "(7, 'Dharma', 'Thanjavur', 92, 7, 'Dharma', 'Thanjavur', 82)\n",
      "(8, 'Elango', 'Chennai', 70, 8, 'Elango', 'Chennai', 77)\n",
      "(8, 'Elango', 'Chennai', 77, 8, 'Elango', 'Chennai', 70)\n",
      "(9, 'Gokul', 'Tirunelveli', 80, 9, 'Gokul', 'Tirunelveli', 90)\n",
      "(9, 'Gokul', 'Tirunelveli', 90, 9, 'Gokul', 'Tirunelveli', 80)\n",
      "(10, 'Gokul', 'Tirunelveli', 56, 10, 'Gokul', 'Tirunelveli', 76)\n",
      "(10, 'Gokul', 'Tirunelveli', 76, 10, 'Gokul', 'Tirunelveli', 56)\n",
      "(12, 'Rahul', 'Trichy', 55, 12, 'Rahul', 'Trichy', 65)\n",
      "(12, 'Rahul', 'Trichy', 65, 12, 'Rahul', 'Trichy', 55)\n",
      "(13, 'Ram', 'Coimbatore', 58, 13, 'Ram', 'Coimbatore', 78)\n",
      "(13, 'Ram', 'Coimbatore', 78, 13, 'Ram', 'Coimbatore', 58)\n",
      "(14, 'Raja', 'Salem', 86, 14, 'Raja', 'Salem', 96)\n",
      "(14, 'Raja', 'Salem', 96, 14, 'Raja', 'Salem', 86)\n",
      "(15, 'Sashi', 'Madurai', 80, 15, 'Sashi', 'Madurai', 90)\n",
      "(15, 'Sashi', 'Madurai', 90, 15, 'Sashi', 'Madurai', 80)\n",
      "(16, 'Siva', 'Thanjavur', 69, 16, 'Siva', 'Thanjavur', 79)\n",
      "(16, 'Siva', 'Thanjavur', 79, 16, 'Siva', 'Thanjavur', 69)\n",
      "(17, 'Sivaram', 'Salem', 80, 17, 'Sivaram', 'Salem', 90)\n",
      "(17, 'Sivaram', 'Salem', 90, 17, 'Sivaram', 'Salem', 80)\n",
      "(18, 'Viswa', 'Trichy', 89, None, None, None, None)\n"
     ]
    }
   ],
   "source": [
    "conn=engine.connect()\n",
    "Result=conn.execute(\"SELECT * \\\n",
    "                    FROM Physics as P LEFT JOIN Mathematics as M ON P.Student_Id=M.Student_ID UNION \\\n",
    "                    SELECT * \\\n",
    "                    FROM Mathematics as M LEFT JOIN Physics as P ON P.Student_Id=M.Student_ID \")\n",
    "for r in Result.fetchall():\n",
    "    print(r)\n",
    "conn.close()"
   ]
  },
  {
   "cell_type": "markdown",
   "metadata": {},
   "source": [
    "Here We have a full outer join! Bhuvanesh did not attend Physics test and Viswa didnot attend Chemistry test.Therefore their details are missing in the respective tables. We find 'None' values at places where details are missing."
   ]
  },
  {
   "cell_type": "markdown",
   "metadata": {},
   "source": [
    "Selecting specific columns we get the following"
   ]
  },
  {
   "cell_type": "code",
   "execution_count": 25,
   "metadata": {},
   "outputs": [
    {
     "name": "stdout",
     "output_type": "stream",
     "text": [
      "2019-10-11 13:53:34,850 INFO sqlalchemy.engine.base.Engine SELECT P.Student_Id,P.Name,P.City,P.Mark as Physics_mark,M.Mark as Mathematics_mark                     FROM Physics as P LEFT JOIN Mathematics as M ON P.Student_Id=M.Student_ID UNION                     SELECT M.Student_Id,M.Name,M.City,P.Mark as Physics_mark,M.Mark as Mathematics_mark                     FROM Mathematics as M LEFT JOIN Physics as P ON P.Student_Id=M.Student_ID \n",
      "2019-10-11 13:53:34,855 INFO sqlalchemy.engine.base.Engine ()\n",
      "(1, 'Arun', 'Coimbatore', 95, 90)\n",
      "(2, 'Arun', 'Trichy', 60, 80)\n",
      "(3, 'Bala', 'Madurai', 80, 80)\n",
      "(4, 'Bhuvanesh', 'Vellore', None, 60)\n",
      "(5, 'Chandru', 'Trichy', 70, 60)\n",
      "(6, 'Dharma', 'Madurai', 68, 64)\n",
      "(7, 'Dharma', 'Thanjavur', 92, 82)\n",
      "(8, 'Elango', 'Chennai', 77, 70)\n",
      "(9, 'Gokul', 'Tirunelveli', 80, 90)\n",
      "(10, 'Gokul', 'Tirunelveli', 56, 76)\n",
      "(12, 'Rahul', 'Trichy', 65, 55)\n",
      "(13, 'Ram', 'Coimbatore', 58, 78)\n",
      "(14, 'Raja', 'Salem', 96, 86)\n",
      "(15, 'Sashi', 'Madurai', 90, 80)\n",
      "(16, 'Siva', 'Thanjavur', 69, 79)\n",
      "(17, 'Sivaram', 'Salem', 90, 80)\n",
      "(18, 'Viswa', 'Trichy', 89, None)\n"
     ]
    }
   ],
   "source": [
    "conn=engine.connect()\n",
    "Result=conn.execute(\"SELECT P.Student_Id,P.Name,P.City,P.Mark as Physics_mark,M.Mark as Mathematics_mark \\\n",
    "                    FROM Physics as P LEFT JOIN Mathematics as M ON P.Student_Id=M.Student_ID UNION \\\n",
    "                    SELECT M.Student_Id,M.Name,M.City,P.Mark as Physics_mark,M.Mark as Mathematics_mark \\\n",
    "                    FROM Mathematics as M LEFT JOIN Physics as P ON P.Student_Id=M.Student_ID \")\n",
    "for r in Result.fetchall():\n",
    "    print(r)\n",
    "conn.close()"
   ]
  },
  {
   "cell_type": "markdown",
   "metadata": {},
   "source": [
    " Here we have 17 students(Except 11) who have attended both the test. Note the Physics score of bhuvanesh and Mathematics score of Viswa. We sucessfully done the full outer join using sqlite!\n",
    "   We can perform Right join by swaping the tables and performing a left join."
   ]
  }
 ],
 "metadata": {
  "kernelspec": {
   "display_name": "Python 3",
   "language": "python",
   "name": "python3"
  },
  "language_info": {
   "codemirror_mode": {
    "name": "ipython",
    "version": 3
   },
   "file_extension": ".py",
   "mimetype": "text/x-python",
   "name": "python",
   "nbconvert_exporter": "python",
   "pygments_lexer": "ipython3",
   "version": "3.6.8"
  }
 },
 "nbformat": 4,
 "nbformat_minor": 2
}
